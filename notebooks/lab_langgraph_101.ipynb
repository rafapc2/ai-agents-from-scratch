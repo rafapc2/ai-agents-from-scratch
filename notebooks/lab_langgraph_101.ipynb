{
 "cells": [
  {
   "cell_type": "markdown",
   "id": "01fe390b",
   "metadata": {},
   "source": [
    "## chat models  \n"
   ]
  },
  {
   "cell_type": "code",
   "execution_count": null,
   "id": "68ea8828",
   "metadata": {},
   "outputs": [
    {
     "data": {
      "text/plain": [
       "True"
      ]
     },
     "execution_count": 1,
     "metadata": {},
     "output_type": "execute_result"
    }
   ],
   "source": [
    "from dotenv import load_dotenv\n",
    "load_dotenv(\"../.env\", override=True)\n"
   ]
  },
  {
   "cell_type": "code",
   "execution_count": 8,
   "id": "6d9e922a",
   "metadata": {},
   "outputs": [
    {
     "data": {
      "text/plain": [
       "langchain_core.messages.ai.AIMessage"
      ]
     },
     "execution_count": 8,
     "metadata": {},
     "output_type": "execute_result"
    }
   ],
   "source": [
    "from langchain.chat_models import init_chat_model\n",
    "from rich.markdown import Markdown\n",
    "\n",
    "my_llm = init_chat_model(\"openai:gpt-5\",temperature=0)\n",
    "\n",
    "result = my_llm.invoke(\"What is an agent?\")\n",
    "type(result)\n"
   ]
  },
  {
   "cell_type": "code",
   "execution_count": 9,
   "id": "25672be5",
   "metadata": {},
   "outputs": [
    {
     "data": {
      "text/html": [
       "<pre style=\"white-space:pre;overflow-x:auto;line-height:normal;font-family:Menlo,'DejaVu Sans Mono',consolas,'Courier New',monospace\">“Agent” generally means an entity that acts, causes effects, or represents someone else. Common uses:              \n",
       "\n",
       "<span style=\"color: #808000; text-decoration-color: #808000; font-weight: bold\"> • </span>General: anything that can act or bring about change.                                                           \n",
       "<span style=\"color: #808000; text-decoration-color: #808000; font-weight: bold\"> • </span>AI/computer science: a system that perceives its environment, decides (via a policy/planner), and acts to       \n",
       "<span style=\"color: #808000; text-decoration-color: #808000; font-weight: bold\">   </span>achieve goals (e.g., software bots, autonomous robots, LLM-based tool users).                                   \n",
       "<span style=\"color: #808000; text-decoration-color: #808000; font-weight: bold\"> • </span>Software: programs that run tasks on your behalf (background “agents,” monitoring or automation).               \n",
       "<span style=\"color: #808000; text-decoration-color: #808000; font-weight: bold\"> • </span>Multi-agent systems: multiple interacting agents that may cooperate or compete.                                 \n",
       "<span style=\"color: #808000; text-decoration-color: #808000; font-weight: bold\"> • </span>Economics (principal–agent): a person/firm (agent) acting for a principal; focuses on incentives, information   \n",
       "<span style=\"color: #808000; text-decoration-color: #808000; font-weight: bold\">   </span>asymmetry, and agency costs.                                                                                    \n",
       "<span style=\"color: #808000; text-decoration-color: #808000; font-weight: bold\"> • </span>Law/business: someone authorized to act for another, with duties defined by agency law (e.g., fiduciary duties).\n",
       "<span style=\"color: #808000; text-decoration-color: #808000; font-weight: bold\"> • </span>Chemistry/medicine: a substance that produces a specific effect (e.g., reducing agent, contrast agent, antiviral\n",
       "<span style=\"color: #808000; text-decoration-color: #808000; font-weight: bold\">   </span>agent).                                                                                                         \n",
       "<span style=\"color: #808000; text-decoration-color: #808000; font-weight: bold\"> • </span>Professions: roles that represent clients (real estate agent, talent agent, travel agent).                      \n",
       "\n",
       "Which context do you have in mind (AI/software, economics/law, chemistry/medicine, or something else)?             \n",
       "</pre>\n"
      ],
      "text/plain": [
       "“Agent” generally means an entity that acts, causes effects, or represents someone else. Common uses:              \n",
       "\n",
       "\u001b[1;33m • \u001b[0mGeneral: anything that can act or bring about change.                                                           \n",
       "\u001b[1;33m • \u001b[0mAI/computer science: a system that perceives its environment, decides (via a policy/planner), and acts to       \n",
       "\u001b[1;33m   \u001b[0machieve goals (e.g., software bots, autonomous robots, LLM-based tool users).                                   \n",
       "\u001b[1;33m • \u001b[0mSoftware: programs that run tasks on your behalf (background “agents,” monitoring or automation).               \n",
       "\u001b[1;33m • \u001b[0mMulti-agent systems: multiple interacting agents that may cooperate or compete.                                 \n",
       "\u001b[1;33m • \u001b[0mEconomics (principal–agent): a person/firm (agent) acting for a principal; focuses on incentives, information   \n",
       "\u001b[1;33m   \u001b[0masymmetry, and agency costs.                                                                                    \n",
       "\u001b[1;33m • \u001b[0mLaw/business: someone authorized to act for another, with duties defined by agency law (e.g., fiduciary duties).\n",
       "\u001b[1;33m • \u001b[0mChemistry/medicine: a substance that produces a specific effect (e.g., reducing agent, contrast agent, antiviral\n",
       "\u001b[1;33m   \u001b[0magent).                                                                                                         \n",
       "\u001b[1;33m • \u001b[0mProfessions: roles that represent clients (real estate agent, talent agent, travel agent).                      \n",
       "\n",
       "Which context do you have in mind (AI/software, economics/law, chemistry/medicine, or something else)?             \n"
      ]
     },
     "execution_count": 9,
     "metadata": {},
     "output_type": "execute_result"
    }
   ],
   "source": [
    "# texto formateado para mejor lectura \n",
    "Markdown(result.content)\n"
   ]
  },
  {
   "cell_type": "code",
   "execution_count": null,
   "id": "79e09244",
   "metadata": {},
   "outputs": [
    {
     "name": "stdout",
     "output_type": "stream",
     "text": [
      "{\n",
      "  \"content\": \"\\u201cAgent\\u201d generally means an entity that acts, causes effects, or represents someone else. Common uses:\\n\\n- General: anything that can act or bring about change.\\n- AI/computer science: a system that perceives its environment, decides (via a policy/planner), and acts to achieve goals (e.g., software bots, autonomous robots, LLM-based tool users).\\n- Software: programs that run tasks on your behalf (background \\u201cagents,\\u201d monitoring or automation).\\n- Multi-agent systems: multiple interacting agents that may cooperate or compete.\\n- Economics (principal\\u2013agent): a person/firm (agent) acting for a principal; focuses on incentives, information asymmetry, and agency costs.\\n- Law/business: someone authorized to act for another, with duties defined by agency law (e.g., fiduciary duties).\\n- Chemistry/medicine: a substance that produces a specific effect (e.g., reducing agent, contrast agent, antiviral agent).\\n- Professions: roles that represent clients (real estate agent, talent agent, travel agent).\\n\\nWhich context do you have in mind (AI/software, economics/law, chemistry/medicine, or something else)?\",\n",
      "  \"additional_kwargs\": {\n",
      "    \"refusal\": null\n",
      "  },\n",
      "  \"response_metadata\": {\n",
      "    \"token_usage\": {\n",
      "      \"completion_tokens\": 625,\n",
      "      \"prompt_tokens\": 11,\n",
      "      \"total_tokens\": 636,\n",
      "      \"completion_tokens_details\": {\n",
      "        \"accepted_prediction_tokens\": 0,\n",
      "        \"audio_tokens\": 0,\n",
      "        \"reasoning_tokens\": 384,\n",
      "        \"rejected_prediction_tokens\": 0\n",
      "      },\n",
      "      \"prompt_tokens_details\": {\n",
      "        \"audio_tokens\": 0,\n",
      "        \"cached_tokens\": 0\n",
      "      }\n",
      "    },\n",
      "    \"model_name\": \"gpt-5-2025-08-07\",\n",
      "    \"system_fingerprint\": null,\n",
      "    \"id\": \"chatcmpl-CH8zNaemxHluWOAeDGMxOT40AkB6O\",\n",
      "    \"service_tier\": \"default\",\n",
      "    \"finish_reason\": \"stop\",\n",
      "    \"logprobs\": null\n",
      "  },\n",
      "  \"type\": \"ai\",\n",
      "  \"name\": null,\n",
      "  \"id\": \"run--8764bb57-c19c-41d3-b6ec-3cbb05b7f986-0\",\n",
      "  \"example\": false,\n",
      "  \"tool_calls\": [],\n",
      "  \"invalid_tool_calls\": [],\n",
      "  \"usage_metadata\": {\n",
      "    \"input_tokens\": 11,\n",
      "    \"output_tokens\": 625,\n",
      "    \"total_tokens\": 636,\n",
      "    \"input_token_details\": {\n",
      "      \"audio\": 0,\n",
      "      \"cache_read\": 0\n",
      "    },\n",
      "    \"output_token_details\": {\n",
      "      \"audio\": 0,\n",
      "      \"reasoning\": 384\n",
      "    }\n",
      "  }\n",
      "}\n"
     ]
    }
   ],
   "source": [
    "import json\n",
    "#detalle de respuesta \n",
    "response_dict = result.__dict__\n",
    "\n",
    "#respuesta en el notebook\n",
    "print(json.dumps(response_dict, indent=2))\n",
    "\n",
    "#respuesta en archivo\n",
    "with open('llm_full_response.json', 'w') as f:\n",
    "    json.dump(response_dict, f, indent=2)"
   ]
  },
  {
   "cell_type": "code",
   "execution_count": null,
   "id": "8ae17747",
   "metadata": {},
   "outputs": [],
   "source": []
  },
  {
   "cell_type": "code",
   "execution_count": null,
   "id": "40b0f7fc",
   "metadata": {},
   "outputs": [],
   "source": []
  },
  {
   "cell_type": "code",
   "execution_count": null,
   "id": "f524b235",
   "metadata": {},
   "outputs": [],
   "source": []
  }
 ],
 "metadata": {
  "kernelspec": {
   "display_name": "ai-agents-from-scratch",
   "language": "python",
   "name": "python3"
  },
  "language_info": {
   "codemirror_mode": {
    "name": "ipython",
    "version": 3
   },
   "file_extension": ".py",
   "mimetype": "text/x-python",
   "name": "python",
   "nbconvert_exporter": "python",
   "pygments_lexer": "ipython3",
   "version": "3.13.7"
  }
 },
 "nbformat": 4,
 "nbformat_minor": 5
}
